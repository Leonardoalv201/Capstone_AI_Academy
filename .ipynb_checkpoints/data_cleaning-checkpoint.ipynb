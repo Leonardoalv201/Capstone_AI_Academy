{
 "cells": [
  {
   "cell_type": "markdown",
   "metadata": {},
   "source": [
    "# Capston project"
   ]
  },
  {
   "cell_type": "markdown",
   "metadata": {},
   "source": [
    "### Imports"
   ]
  },
  {
   "cell_type": "code",
   "execution_count": 1,
   "metadata": {},
   "outputs": [],
   "source": [
    "import numpy as np\n",
    "import pandas as pd\n",
    "import seaborn as sns\n",
    "import scipy.stats as stats\n",
    "import statsmodels.api as sm\n",
    "import matplotlib.pyplot as plt\n",
    "%matplotlib inline\n",
    "from sklearn.tree import DecisionTreeClassifier \n",
    "from sklearn.neural_network import MLPClassifier\n",
    "from sklearn.neighbors import KNeighborsClassifier\n",
    "from sklearn.ensemble import RandomForestClassifier\n",
    "from sklearn.preprocessing import StandardScaler\n",
    "from sklearn.model_selection import train_test_split, GridSearchCV, KFold, cross_val_score\n",
    "from sklearn.metrics import confusion_matrix, classification_report, ConfusionMatrixDisplay, roc_curve, auc"
   ]
  },
  {
   "cell_type": "markdown",
   "metadata": {},
   "source": [
    "## Statistics"
   ]
  },
  {
   "cell_type": "markdown",
   "metadata": {},
   "source": [
    "### Import files"
   ]
  },
  {
   "cell_type": "code",
   "execution_count": 2,
   "metadata": {},
   "outputs": [
    {
     "data": {
      "text/html": [
       "<div>\n",
       "<style scoped>\n",
       "    .dataframe tbody tr th:only-of-type {\n",
       "        vertical-align: middle;\n",
       "    }\n",
       "\n",
       "    .dataframe tbody tr th {\n",
       "        vertical-align: top;\n",
       "    }\n",
       "\n",
       "    .dataframe thead th {\n",
       "        text-align: right;\n",
       "    }\n",
       "</style>\n",
       "<table border=\"1\" class=\"dataframe\">\n",
       "  <thead>\n",
       "    <tr style=\"text-align: right;\">\n",
       "      <th></th>\n",
       "      <th>Age</th>\n",
       "      <th>Sex</th>\n",
       "      <th>ChestPainType</th>\n",
       "      <th>RestingBP</th>\n",
       "      <th>Cholesterol</th>\n",
       "      <th>FastingBS</th>\n",
       "      <th>RestingECG</th>\n",
       "      <th>MaxHR</th>\n",
       "      <th>ExerciseAngina</th>\n",
       "      <th>Oldpeak</th>\n",
       "      <th>ST_Slope</th>\n",
       "      <th>HeartDisease</th>\n",
       "    </tr>\n",
       "  </thead>\n",
       "  <tbody>\n",
       "    <tr>\n",
       "      <th>0</th>\n",
       "      <td>40</td>\n",
       "      <td>M</td>\n",
       "      <td>ATA</td>\n",
       "      <td>140</td>\n",
       "      <td>289</td>\n",
       "      <td>0</td>\n",
       "      <td>Normal</td>\n",
       "      <td>172</td>\n",
       "      <td>N</td>\n",
       "      <td>0.0</td>\n",
       "      <td>Up</td>\n",
       "      <td>0</td>\n",
       "    </tr>\n",
       "    <tr>\n",
       "      <th>1</th>\n",
       "      <td>49</td>\n",
       "      <td>F</td>\n",
       "      <td>NAP</td>\n",
       "      <td>160</td>\n",
       "      <td>180</td>\n",
       "      <td>0</td>\n",
       "      <td>Normal</td>\n",
       "      <td>156</td>\n",
       "      <td>N</td>\n",
       "      <td>1.0</td>\n",
       "      <td>Flat</td>\n",
       "      <td>1</td>\n",
       "    </tr>\n",
       "    <tr>\n",
       "      <th>2</th>\n",
       "      <td>37</td>\n",
       "      <td>M</td>\n",
       "      <td>ATA</td>\n",
       "      <td>130</td>\n",
       "      <td>283</td>\n",
       "      <td>0</td>\n",
       "      <td>ST</td>\n",
       "      <td>98</td>\n",
       "      <td>N</td>\n",
       "      <td>0.0</td>\n",
       "      <td>Up</td>\n",
       "      <td>0</td>\n",
       "    </tr>\n",
       "    <tr>\n",
       "      <th>3</th>\n",
       "      <td>48</td>\n",
       "      <td>F</td>\n",
       "      <td>ASY</td>\n",
       "      <td>138</td>\n",
       "      <td>214</td>\n",
       "      <td>0</td>\n",
       "      <td>Normal</td>\n",
       "      <td>108</td>\n",
       "      <td>Y</td>\n",
       "      <td>1.5</td>\n",
       "      <td>Flat</td>\n",
       "      <td>1</td>\n",
       "    </tr>\n",
       "    <tr>\n",
       "      <th>4</th>\n",
       "      <td>54</td>\n",
       "      <td>M</td>\n",
       "      <td>NAP</td>\n",
       "      <td>150</td>\n",
       "      <td>195</td>\n",
       "      <td>0</td>\n",
       "      <td>Normal</td>\n",
       "      <td>122</td>\n",
       "      <td>N</td>\n",
       "      <td>0.0</td>\n",
       "      <td>Up</td>\n",
       "      <td>0</td>\n",
       "    </tr>\n",
       "  </tbody>\n",
       "</table>\n",
       "</div>"
      ],
      "text/plain": [
       "   Age Sex ChestPainType  RestingBP  Cholesterol  FastingBS RestingECG  MaxHR  \\\n",
       "0   40   M           ATA        140          289          0     Normal    172   \n",
       "1   49   F           NAP        160          180          0     Normal    156   \n",
       "2   37   M           ATA        130          283          0         ST     98   \n",
       "3   48   F           ASY        138          214          0     Normal    108   \n",
       "4   54   M           NAP        150          195          0     Normal    122   \n",
       "\n",
       "  ExerciseAngina  Oldpeak ST_Slope  HeartDisease  \n",
       "0              N      0.0       Up             0  \n",
       "1              N      1.0     Flat             1  \n",
       "2              N      0.0       Up             0  \n",
       "3              Y      1.5     Flat             1  \n",
       "4              N      0.0       Up             0  "
      ]
     },
     "execution_count": 2,
     "metadata": {},
     "output_type": "execute_result"
    }
   ],
   "source": [
    "df = pd.read_csv('Data/heart.csv')\n",
    "df.head(5)"
   ]
  },
  {
   "cell_type": "markdown",
   "metadata": {},
   "source": [
    "From the following table, we can see there's 918 rows from which each represent a different person. Must of the columns are of integer type, but we'll also be focusing on HeartDisease column which can be considered of boolean type."
   ]
  },
  {
   "cell_type": "code",
   "execution_count": 3,
   "metadata": {},
   "outputs": [
    {
     "data": {
      "text/html": [
       "<div>\n",
       "<style scoped>\n",
       "    .dataframe tbody tr th:only-of-type {\n",
       "        vertical-align: middle;\n",
       "    }\n",
       "\n",
       "    .dataframe tbody tr th {\n",
       "        vertical-align: top;\n",
       "    }\n",
       "\n",
       "    .dataframe thead th {\n",
       "        text-align: right;\n",
       "    }\n",
       "</style>\n",
       "<table border=\"1\" class=\"dataframe\">\n",
       "  <thead>\n",
       "    <tr style=\"text-align: right;\">\n",
       "      <th></th>\n",
       "      <th>Age</th>\n",
       "      <th>RestingBP</th>\n",
       "      <th>Cholesterol</th>\n",
       "      <th>FastingBS</th>\n",
       "      <th>MaxHR</th>\n",
       "      <th>Oldpeak</th>\n",
       "      <th>HeartDisease</th>\n",
       "    </tr>\n",
       "  </thead>\n",
       "  <tbody>\n",
       "    <tr>\n",
       "      <th>count</th>\n",
       "      <td>918.000000</td>\n",
       "      <td>918.000000</td>\n",
       "      <td>918.000000</td>\n",
       "      <td>918.000000</td>\n",
       "      <td>918.000000</td>\n",
       "      <td>918.000000</td>\n",
       "      <td>918.000000</td>\n",
       "    </tr>\n",
       "    <tr>\n",
       "      <th>mean</th>\n",
       "      <td>53.510893</td>\n",
       "      <td>132.396514</td>\n",
       "      <td>198.799564</td>\n",
       "      <td>0.233115</td>\n",
       "      <td>136.809368</td>\n",
       "      <td>0.887364</td>\n",
       "      <td>0.553377</td>\n",
       "    </tr>\n",
       "    <tr>\n",
       "      <th>std</th>\n",
       "      <td>9.432617</td>\n",
       "      <td>18.514154</td>\n",
       "      <td>109.384145</td>\n",
       "      <td>0.423046</td>\n",
       "      <td>25.460334</td>\n",
       "      <td>1.066570</td>\n",
       "      <td>0.497414</td>\n",
       "    </tr>\n",
       "    <tr>\n",
       "      <th>min</th>\n",
       "      <td>28.000000</td>\n",
       "      <td>0.000000</td>\n",
       "      <td>0.000000</td>\n",
       "      <td>0.000000</td>\n",
       "      <td>60.000000</td>\n",
       "      <td>-2.600000</td>\n",
       "      <td>0.000000</td>\n",
       "    </tr>\n",
       "    <tr>\n",
       "      <th>25%</th>\n",
       "      <td>47.000000</td>\n",
       "      <td>120.000000</td>\n",
       "      <td>173.250000</td>\n",
       "      <td>0.000000</td>\n",
       "      <td>120.000000</td>\n",
       "      <td>0.000000</td>\n",
       "      <td>0.000000</td>\n",
       "    </tr>\n",
       "    <tr>\n",
       "      <th>50%</th>\n",
       "      <td>54.000000</td>\n",
       "      <td>130.000000</td>\n",
       "      <td>223.000000</td>\n",
       "      <td>0.000000</td>\n",
       "      <td>138.000000</td>\n",
       "      <td>0.600000</td>\n",
       "      <td>1.000000</td>\n",
       "    </tr>\n",
       "    <tr>\n",
       "      <th>75%</th>\n",
       "      <td>60.000000</td>\n",
       "      <td>140.000000</td>\n",
       "      <td>267.000000</td>\n",
       "      <td>0.000000</td>\n",
       "      <td>156.000000</td>\n",
       "      <td>1.500000</td>\n",
       "      <td>1.000000</td>\n",
       "    </tr>\n",
       "    <tr>\n",
       "      <th>max</th>\n",
       "      <td>77.000000</td>\n",
       "      <td>200.000000</td>\n",
       "      <td>603.000000</td>\n",
       "      <td>1.000000</td>\n",
       "      <td>202.000000</td>\n",
       "      <td>6.200000</td>\n",
       "      <td>1.000000</td>\n",
       "    </tr>\n",
       "  </tbody>\n",
       "</table>\n",
       "</div>"
      ],
      "text/plain": [
       "              Age   RestingBP  Cholesterol   FastingBS       MaxHR  \\\n",
       "count  918.000000  918.000000   918.000000  918.000000  918.000000   \n",
       "mean    53.510893  132.396514   198.799564    0.233115  136.809368   \n",
       "std      9.432617   18.514154   109.384145    0.423046   25.460334   \n",
       "min     28.000000    0.000000     0.000000    0.000000   60.000000   \n",
       "25%     47.000000  120.000000   173.250000    0.000000  120.000000   \n",
       "50%     54.000000  130.000000   223.000000    0.000000  138.000000   \n",
       "75%     60.000000  140.000000   267.000000    0.000000  156.000000   \n",
       "max     77.000000  200.000000   603.000000    1.000000  202.000000   \n",
       "\n",
       "          Oldpeak  HeartDisease  \n",
       "count  918.000000    918.000000  \n",
       "mean     0.887364      0.553377  \n",
       "std      1.066570      0.497414  \n",
       "min     -2.600000      0.000000  \n",
       "25%      0.000000      0.000000  \n",
       "50%      0.600000      1.000000  \n",
       "75%      1.500000      1.000000  \n",
       "max      6.200000      1.000000  "
      ]
     },
     "execution_count": 3,
     "metadata": {},
     "output_type": "execute_result"
    }
   ],
   "source": [
    "df.describe()"
   ]
  },
  {
   "cell_type": "markdown",
   "metadata": {},
   "source": [
    "### Categorical Plot"
   ]
  },
  {
   "cell_type": "markdown",
   "metadata": {},
   "source": [
    "First off, we'll be creating a simple count plot to show how many different cases of heart disease we have on our dataset"
   ]
  },
  {
   "cell_type": "code",
   "execution_count": 4,
   "metadata": {},
   "outputs": [
    {
     "data": {
      "image/png": "[encoded data removed]",
      "text/plain": [
       "<Figure size 640x480 with 1 Axes>"
      ]
     },
     "metadata": {},
     "output_type": "display_data"
    }
   ],
   "source": [
    "# Create a graphic for people who have and don't have heart diseases\n",
    "sns.countplot(x='HeartDisease', data=df)\n",
    "plt.title('Heart Disease Distribution')\n",
    "plt.show()"
   ]
  },
  {
   "cell_type": "markdown",
   "metadata": {},
   "source": [
    "Now lets clean a little bit our data for our next plot, which will be showing a bar chart illustrating the difference between men and women with heart disease using their age as X-axis value"
   ]
  },
  {
   "cell_type": "code",
   "execution_count": 5,
   "metadata": {},
   "outputs": [
    {
     "data": {
      "image/png": "[encoded data removed]",
      "text/plain": [
       "<Figure size 640x480 with 1 Axes>"
      ]
     },
     "metadata": {},
     "output_type": "display_data"
    }
   ],
   "source": [
    "fem = []\n",
    "mas = []\n",
    "ages = df.Age.unique()\n",
    "age_heart_disease_df = df[['Age', 'HeartDisease', 'Sex']]\n",
    "age_heart_disease_df = age_heart_disease_df.groupby(['Age', 'Sex']).sum()\n",
    "for age in ages:\n",
    "    for sex in [\"F\", \"M\"]:\n",
    "        if (age, sex) in age_heart_disease_df.index:\n",
    "            if sex == \"F\":\n",
    "                fem.append(age_heart_disease_df.loc[age, sex].HeartDisease)\n",
    "            else:\n",
    "                mas.append(age_heart_disease_df.loc[age, sex].HeartDisease)\n",
    "        else:\n",
    "            if sex == \"F\":\n",
    "                fem.append(0)\n",
    "            else:\n",
    "                mas.append(0)\n",
    "                \n",
    "X_axis = np.arange(len(ages))\n",
    "\n",
    "tick_positions = np.arange(0, len(ages), step=10)\n",
    "tick_labels = [ages[i] for i in tick_positions]\n",
    "\n",
    "plt.bar(X_axis - 0.2, fem, 0.4, label='Women')\n",
    "plt.bar(X_axis + 0.2, mas, 0.4, label='Men')\n",
    "\n",
    "plt.xticks(tick_positions, tick_labels)\n",
    "plt.xlabel('Age')\n",
    "plt.ylabel('Number of Individuals')\n",
    "plt.title('Heart Disease Cases by Age and Sex')\n",
    "plt.legend()\n",
    "plt.show()"
   ]
  },
  {
   "cell_type": "markdown",
   "metadata": {},
   "source": [
    "### Choresterol and HeartDisease"
   ]
  },
  {
   "cell_type": "code",
   "execution_count": 6,
   "metadata": {},
   "outputs": [
    {
     "data": {
      "image/png": "[encoded data removed]",
      "text/plain": [
       "<Figure size 800x600 with 1 Axes>"
      ]
     },
     "metadata": {},
     "output_type": "display_data"
    }
   ],
   "source": [
    "# Create separate Series for cholesterol levels for individuals with and without heart disease\n",
    "cholesterol_heart_disease = df[df['HeartDisease'] == 1]['Cholesterol']\n",
    "cholesterol_no_heart_disease = df[df['HeartDisease'] == 0]['Cholesterol']\n",
    "\n",
    "# Create a box plot\n",
    "plt.figure(figsize=(8, 6))\n",
    "plt.boxplot([cholesterol_no_heart_disease, cholesterol_heart_disease], labels=['No Heart Disease', 'Heart Disease'])\n",
    "plt.xlabel('Heart Disease')\n",
    "plt.ylabel('Cholesterol Levels')\n",
    "plt.title('Cholesterol Levels by Heart Disease Status (Box Plot)')\n",
    "plt.grid(True)\n",
    "plt.show()"
   ]
  },
  {
   "cell_type": "code",
   "execution_count": 7,
   "metadata": {},
   "outputs": [
    {
     "data": {
      "image/png": "[encoded data removed]",
      "text/plain": [
       "<Figure size 800x600 with 1 Axes>"
      ]
     },
     "metadata": {},
     "output_type": "display_data"
    }
   ],
   "source": [
    "# Or a violin plot for a denser representation\n",
    "plt.figure(figsize=(8, 6))\n",
    "plt.violinplot([cholesterol_no_heart_disease, cholesterol_heart_disease], showmedians=True)\n",
    "plt.xticks([1, 2], ['No Heart Disease', 'Heart Disease'])\n",
    "plt.xlabel('Heart Disease')\n",
    "plt.ylabel('Cholesterol Levels')\n",
    "plt.title('Cholesterol Levels by Heart Disease Status (Violin Plot)')\n",
    "plt.grid(True)\n",
    "plt.show()"
   ]
  },
  {
   "cell_type": "markdown",
   "metadata": {},
   "source": [
    "## Dataset Transformation and Cleaning"
   ]
  },
  {
   "cell_type": "code",
   "execution_count": 8,
   "metadata": {},
   "outputs": [],
   "source": [
    "#Changing categorical data to numerical\n",
    "df[\"Sex\"] = df[\"Sex\"].map(lambda  x : 1 if x == \"M\" else 0)\n",
    "df[\"ExerciseAngina\"] = df[\"ExerciseAngina\"].map(lambda  x : 1 if x == \"Y\" else 0)\n",
    "enriched_df = df.drop([\"ST_Slope\"], axis = 1).join(pd.get_dummies(df.ST_Slope, dtype=float))\n",
    "enriched_df = enriched_df.drop([\"RestingECG\"], axis = 1).join(pd.get_dummies(enriched_df.RestingECG, dtype=float))\n",
    "enriched_df = enriched_df.drop([\"ChestPainType\"], axis = 1).join(pd.get_dummies(enriched_df.ChestPainType, dtype=float))"
   ]
  },
  {
   "cell_type": "code",
   "execution_count": 9,
   "metadata": {},
   "outputs": [
    {
     "data": {
      "text/html": [
       "<div>\n",
       "<style scoped>\n",
       "    .dataframe tbody tr th:only-of-type {\n",
       "        vertical-align: middle;\n",
       "    }\n",
       "\n",
       "    .dataframe tbody tr th {\n",
       "        vertical-align: top;\n",
       "    }\n",
       "\n",
       "    .dataframe thead th {\n",
       "        text-align: right;\n",
       "    }\n",
       "</style>\n",
       "<table border=\"1\" class=\"dataframe\">\n",
       "  <thead>\n",
       "    <tr style=\"text-align: right;\">\n",
       "      <th></th>\n",
       "      <th>Age</th>\n",
       "      <th>Sex</th>\n",
       "      <th>RestingBP</th>\n",
       "      <th>Cholesterol</th>\n",
       "      <th>FastingBS</th>\n",
       "      <th>MaxHR</th>\n",
       "      <th>ExerciseAngina</th>\n",
       "      <th>Oldpeak</th>\n",
       "      <th>HeartDisease</th>\n",
       "      <th>Down</th>\n",
       "      <th>Flat</th>\n",
       "      <th>Up</th>\n",
       "      <th>LVH</th>\n",
       "      <th>Normal</th>\n",
       "      <th>ST</th>\n",
       "      <th>ASY</th>\n",
       "      <th>ATA</th>\n",
       "      <th>NAP</th>\n",
       "      <th>TA</th>\n",
       "    </tr>\n",
       "  </thead>\n",
       "  <tbody>\n",
       "    <tr>\n",
       "      <th>0</th>\n",
       "      <td>40</td>\n",
       "      <td>1</td>\n",
       "      <td>140</td>\n",
       "      <td>289</td>\n",
       "      <td>0</td>\n",
       "      <td>172</td>\n",
       "      <td>0</td>\n",
       "      <td>0.0</td>\n",
       "      <td>0</td>\n",
       "      <td>0.0</td>\n",
       "      <td>0.0</td>\n",
       "      <td>1.0</td>\n",
       "      <td>0.0</td>\n",
       "      <td>1.0</td>\n",
       "      <td>0.0</td>\n",
       "      <td>0.0</td>\n",
       "      <td>1.0</td>\n",
       "      <td>0.0</td>\n",
       "      <td>0.0</td>\n",
       "    </tr>\n",
       "    <tr>\n",
       "      <th>1</th>\n",
       "      <td>49</td>\n",
       "      <td>0</td>\n",
       "      <td>160</td>\n",
       "      <td>180</td>\n",
       "      <td>0</td>\n",
       "      <td>156</td>\n",
       "      <td>0</td>\n",
       "      <td>1.0</td>\n",
       "      <td>1</td>\n",
       "      <td>0.0</td>\n",
       "      <td>1.0</td>\n",
       "      <td>0.0</td>\n",
       "      <td>0.0</td>\n",
       "      <td>1.0</td>\n",
       "      <td>0.0</td>\n",
       "      <td>0.0</td>\n",
       "      <td>0.0</td>\n",
       "      <td>1.0</td>\n",
       "      <td>0.0</td>\n",
       "    </tr>\n",
       "    <tr>\n",
       "      <th>2</th>\n",
       "      <td>37</td>\n",
       "      <td>1</td>\n",
       "      <td>130</td>\n",
       "      <td>283</td>\n",
       "      <td>0</td>\n",
       "      <td>98</td>\n",
       "      <td>0</td>\n",
       "      <td>0.0</td>\n",
       "      <td>0</td>\n",
       "      <td>0.0</td>\n",
       "      <td>0.0</td>\n",
       "      <td>1.0</td>\n",
       "      <td>0.0</td>\n",
       "      <td>0.0</td>\n",
       "      <td>1.0</td>\n",
       "      <td>0.0</td>\n",
       "      <td>1.0</td>\n",
       "      <td>0.0</td>\n",
       "      <td>0.0</td>\n",
       "    </tr>\n",
       "    <tr>\n",
       "      <th>3</th>\n",
       "      <td>48</td>\n",
       "      <td>0</td>\n",
       "      <td>138</td>\n",
       "      <td>214</td>\n",
       "      <td>0</td>\n",
       "      <td>108</td>\n",
       "      <td>1</td>\n",
       "      <td>1.5</td>\n",
       "      <td>1</td>\n",
       "      <td>0.0</td>\n",
       "      <td>1.0</td>\n",
       "      <td>0.0</td>\n",
       "      <td>0.0</td>\n",
       "      <td>1.0</td>\n",
       "      <td>0.0</td>\n",
       "      <td>1.0</td>\n",
       "      <td>0.0</td>\n",
       "      <td>0.0</td>\n",
       "      <td>0.0</td>\n",
       "    </tr>\n",
       "    <tr>\n",
       "      <th>4</th>\n",
       "      <td>54</td>\n",
       "      <td>1</td>\n",
       "      <td>150</td>\n",
       "      <td>195</td>\n",
       "      <td>0</td>\n",
       "      <td>122</td>\n",
       "      <td>0</td>\n",
       "      <td>0.0</td>\n",
       "      <td>0</td>\n",
       "      <td>0.0</td>\n",
       "      <td>0.0</td>\n",
       "      <td>1.0</td>\n",
       "      <td>0.0</td>\n",
       "      <td>1.0</td>\n",
       "      <td>0.0</td>\n",
       "      <td>0.0</td>\n",
       "      <td>0.0</td>\n",
       "      <td>1.0</td>\n",
       "      <td>0.0</td>\n",
       "    </tr>\n",
       "  </tbody>\n",
       "</table>\n",
       "</div>"
      ],
      "text/plain": [
       "   Age  Sex  RestingBP  Cholesterol  FastingBS  MaxHR  ExerciseAngina  \\\n",
       "0   40    1        140          289          0    172               0   \n",
       "1   49    0        160          180          0    156               0   \n",
       "2   37    1        130          283          0     98               0   \n",
       "3   48    0        138          214          0    108               1   \n",
       "4   54    1        150          195          0    122               0   \n",
       "\n",
       "   Oldpeak  HeartDisease  Down  Flat   Up  LVH  Normal   ST  ASY  ATA  NAP  \\\n",
       "0      0.0             0   0.0   0.0  1.0  0.0     1.0  0.0  0.0  1.0  0.0   \n",
       "1      1.0             1   0.0   1.0  0.0  0.0     1.0  0.0  0.0  0.0  1.0   \n",
       "2      0.0             0   0.0   0.0  1.0  0.0     0.0  1.0  0.0  1.0  0.0   \n",
       "3      1.5             1   0.0   1.0  0.0  0.0     1.0  0.0  1.0  0.0  0.0   \n",
       "4      0.0             0   0.0   0.0  1.0  0.0     1.0  0.0  0.0  0.0  1.0   \n",
       "\n",
       "    TA  \n",
       "0  0.0  \n",
       "1  0.0  \n",
       "2  0.0  \n",
       "3  0.0  \n",
       "4  0.0  "
      ]
     },
     "execution_count": 9,
     "metadata": {},
     "output_type": "execute_result"
    }
   ],
   "source": [
    "enriched_df.head()"
   ]
  },
  {
   "cell_type": "markdown",
   "metadata": {},
   "source": [
    "### Statistics"
   ]
  },
  {
   "cell_type": "code",
   "execution_count": 10,
   "metadata": {},
   "outputs": [
    {
     "name": "stdout",
     "output_type": "stream",
     "text": [
      "Age 0.2820385058189973\n",
      "Sex 0.3054449159631401\n",
      "RestingBP 0.10758898037140395\n",
      "Cholesterol -0.23274063892701172\n",
      "FastingBS 0.26729118611029756\n",
      "MaxHR -0.40042076946319016\n",
      "ExerciseAngina 0.49428199182426863\n",
      "Oldpeak 0.4039507220628869\n",
      "HeartDisease 1.0\n",
      "Down 0.12252667640649273\n",
      "Flat 0.5541335908840086\n",
      "Up -0.6221642083959973\n",
      "LVH 0.010670195926115022\n",
      "Normal -0.09157996051346003\n",
      "ST 0.10252722218986648\n",
      "ASY 0.5167164574900882\n",
      "ATA -0.40192405291466726\n",
      "NAP -0.21296362503940622\n",
      "TA -0.05479026202691367\n"
     ]
    }
   ],
   "source": [
    "for col in enriched_df.columns:\n",
    "    print(col, np.corrcoef(enriched_df.HeartDisease, enriched_df[col])[0][1])"
   ]
  },
  {
   "cell_type": "markdown",
   "metadata": {},
   "source": [
    "## Models"
   ]
  },
  {
   "cell_type": "code",
   "execution_count": 11,
   "metadata": {},
   "outputs": [],
   "source": [
    "#X and y variables\n",
    "y = enriched_df.HeartDisease\n",
    "X = enriched_df.drop(\"HeartDisease\", axis=1)"
   ]
  },
  {
   "cell_type": "markdown",
   "metadata": {},
   "source": [
    "### Model 1 (linear regression)"
   ]
  },
  {
   "cell_type": "code",
   "execution_count": 12,
   "metadata": {},
   "outputs": [
    {
     "name": "stdout",
     "output_type": "stream",
     "text": [
      "                            OLS Regression Results                            \n",
      "==============================================================================\n",
      "Dep. Variable:           HeartDisease   R-squared:                       0.576\n",
      "Model:                            OLS   Adj. R-squared:                  0.569\n",
      "Method:                 Least Squares   F-statistic:                     81.59\n",
      "Date:                Thu, 16 May 2024   Prob (F-statistic):          3.35e-156\n",
      "Time:                        19:01:23   Log-Likelihood:                -267.50\n",
      "No. Observations:                 918   AIC:                             567.0\n",
      "Df Residuals:                     902   BIC:                             644.1\n",
      "Df Model:                          15                                         \n",
      "Covariance Type:            nonrobust                                         \n",
      "==================================================================================\n",
      "                     coef    std err          t      P>|t|      [0.025      0.975]\n",
      "----------------------------------------------------------------------------------\n",
      "const              0.1446      0.073      1.969      0.049       0.000       0.289\n",
      "Age                0.0022      0.001      1.651      0.099      -0.000       0.005\n",
      "Sex                0.1583      0.028      5.689      0.000       0.104       0.213\n",
      "RestingBP          0.0002      0.001      0.339      0.735      -0.001       0.001\n",
      "Cholesterol       -0.0005      0.000     -4.669      0.000      -0.001      -0.000\n",
      "FastingBS          0.1311      0.027      4.802      0.000       0.078       0.185\n",
      "MaxHR             -0.0006      0.001     -1.215      0.225      -0.002       0.000\n",
      "ExerciseAngina     0.1358      0.028      4.911      0.000       0.082       0.190\n",
      "Oldpeak            0.0498      0.013      3.973      0.000       0.025       0.074\n",
      "Down               0.0654      0.041      1.597      0.111      -0.015       0.146\n",
      "Flat               0.2262      0.029      7.777      0.000       0.169       0.283\n",
      "Up                -0.1470      0.033     -4.429      0.000      -0.212      -0.082\n",
      "LVH                0.0609      0.034      1.795      0.073      -0.006       0.128\n",
      "Normal             0.0422      0.026      1.631      0.103      -0.009       0.093\n",
      "ST                 0.0415      0.031      1.339      0.181      -0.019       0.102\n",
      "ASY                0.2031      0.025      8.099      0.000       0.154       0.252\n",
      "ATA               -0.0440      0.030     -1.448      0.148      -0.104       0.016\n",
      "NAP               -0.0260      0.028     -0.914      0.361      -0.082       0.030\n",
      "TA                 0.0115      0.045      0.258      0.796      -0.076       0.099\n",
      "==============================================================================\n",
      "Omnibus:                       24.305   Durbin-Watson:                   2.225\n",
      "Prob(Omnibus):                  0.000   Jarque-Bera (JB):               34.540\n",
      "Skew:                          -0.261   Prob(JB):                     3.16e-08\n",
      "Kurtosis:                       3.795   Cond. No.                     3.59e+18\n",
      "==============================================================================\n",
      "\n",
      "Notes:\n",
      "[1] Standard Errors assume that the covariance matrix of the errors is correctly specified.\n",
      "[2] The smallest eigenvalue is 6.11e-30. This might indicate that there are\n",
      "strong multicollinearity problems or that the design matrix is singular.\n"
     ]
    }
   ],
   "source": [
    "baseline_model = sm.OLS(y, sm.add_constant(X))\n",
    "baseline_results = baseline_model.fit()\n",
    "\n",
    "print(baseline_results.summary())"
   ]
  },
  {
   "cell_type": "code",
   "execution_count": 13,
   "metadata": {},
   "outputs": [],
   "source": [
    "#Train test split\n",
    "X_train, X_test, y_train, y_test = train_test_split(X, y, random_state=1)"
   ]
  },
  {
   "cell_type": "markdown",
   "metadata": {},
   "source": [
    "### Model 2 (NN)"
   ]
  },
  {
   "cell_type": "code",
   "execution_count": 14,
   "metadata": {},
   "outputs": [
    {
     "name": "stdout",
     "output_type": "stream",
     "text": [
      "train acc: 0.8619186046511628 \n",
      "test acc: 0.8826086956521739\n",
      "\n",
      "AUC is :0.88\n"
     ]
    },
    {
     "data": {
      "text/plain": [
       "<sklearn.metrics._plot.confusion_matrix.ConfusionMatrixDisplay at 0x29e4def6890>"
      ]
     },
     "execution_count": 14,
     "metadata": {},
     "output_type": "execute_result"
    },
    {
     "data": {
      "image/png": "[encoded data removed]",
      "text/plain": [
       "<Figure size 640x480 with 2 Axes>"
      ]
     },
     "metadata": {},
     "output_type": "display_data"
    }
   ],
   "source": [
    "#Fit training data\n",
    "model_NN = MLPClassifier(random_state=1, max_iter=300).fit(X_train, y_train)\n",
    "\n",
    "#Use train model to predict the output for X_test\n",
    "y_pred_NN = model_NN.predict(X_test)\n",
    "\n",
    "# Check the Acuraccy for predictions\n",
    "train_acc_NN = model_NN.score(X_train, y_train)\n",
    "test_acc_NN = model_NN.score(X_test, y_test)\n",
    "print(\"train acc:\",train_acc_NN,\"\\ntest acc:\", test_acc_NN)\n",
    "\n",
    "# Check the AUC for predictions\n",
    "false_positive_rate_NN, true_positive_rate_NN, thresholds_NN = roc_curve(y_test, y_pred_NN)\n",
    "roc_auc_NN = auc(false_positive_rate_NN, true_positive_rate_NN)\n",
    "print('\\nAUC is :{0}'.format(round(roc_auc_NN, 2)))\n",
    "\n",
    "#Confusion matrix\n",
    "model_NN_matrix = confusion_matrix(y_test, y_pred_NN)\n",
    "disp = ConfusionMatrixDisplay(confusion_matrix=model_NN_matrix, display_labels=model_NN.classes_)\n",
    "disp.plot(cmap=plt.cm.Blues)"
   ]
  },
  {
   "cell_type": "markdown",
   "metadata": {},
   "source": [
    "### Model 3(DecisionTreeClassifier)"
   ]
  },
  {
   "cell_type": "code",
   "execution_count": 15,
   "metadata": {},
   "outputs": [
    {
     "name": "stdout",
     "output_type": "stream",
     "text": [
      "train acc: 1.0 \n",
      "test acc: 0.7956521739130434\n",
      "\n",
      "AUC is :0.8\n"
     ]
    },
    {
     "data": {
      "text/plain": [
       "<sklearn.metrics._plot.confusion_matrix.ConfusionMatrixDisplay at 0x29e4e850550>"
      ]
     },
     "execution_count": 15,
     "metadata": {},
     "output_type": "execute_result"
    },
    {
     "data": {
      "image/png": "[encoded data removed]",
      "text/plain": [
       "<Figure size 640x480 with 2 Axes>"
      ]
     },
     "metadata": {},
     "output_type": "display_data"
    }
   ],
   "source": [
    "model_DT = DecisionTreeClassifier(random_state=10)  \n",
    "\n",
    "#Fit training data\n",
    "model_DT.fit(X_train, y_train) \n",
    "\n",
    "#Use train model to predict the output for X_test\n",
    "y_pred_DT = model_DT.predict(X_test)  \n",
    "\n",
    "# Check the Acuraccy for predictions\n",
    "train_acc_DT = model_DT.score(X_train, y_train)\n",
    "test_acc_DT = model_DT.score(X_test, y_test)\n",
    "print(\"train acc:\",train_acc_DT,\"\\ntest acc:\", test_acc_DT)\n",
    "\n",
    "# Check the AUC for predictions\n",
    "false_positive_rate_DT, true_positive_rate_DT, thresholds_DT = roc_curve(y_test, y_pred_DT)\n",
    "roc_auc_DT = auc(false_positive_rate_DT, true_positive_rate_DT)\n",
    "print('\\nAUC is :{0}'.format(round(roc_auc_DT, 2)))\n",
    "\n",
    "#Confusion matrix\n",
    "model_DT_matrix = confusion_matrix(y_test, y_pred_DT)\n",
    "disp = ConfusionMatrixDisplay(confusion_matrix=model_DT_matrix, display_labels=model_DT.classes_)\n",
    "disp.plot(cmap=plt.cm.Blues)"
   ]
  },
  {
   "cell_type": "markdown",
   "metadata": {},
   "source": [
    "### Model 4(Random ForestClassifier)"
   ]
  },
  {
   "cell_type": "code",
   "execution_count": 16,
   "metadata": {},
   "outputs": [
    {
     "name": "stdout",
     "output_type": "stream",
     "text": [
      "train acc: 1.0 \n",
      "test acc: 0.8521739130434782\n",
      "\n",
      "AUC is :0.85\n"
     ]
    },
    {
     "data": {
      "text/plain": [
       "<sklearn.metrics._plot.confusion_matrix.ConfusionMatrixDisplay at 0x29e4e8043d0>"
      ]
     },
     "execution_count": 16,
     "metadata": {},
     "output_type": "execute_result"
    },
    {
     "data": {
      "image/png": "[encoded data removed]",
      "text/plain": [
       "<Figure size 640x480 with 2 Axes>"
      ]
     },
     "metadata": {},
     "output_type": "display_data"
    }
   ],
   "source": [
    "#Random Forest Classifier with optimal estimators\n",
    "model_RF=RandomForestClassifier(n_estimators=260,min_samples_split= 2, min_samples_leaf= 1,max_features='sqrt',max_depth=None, bootstrap=False)\n",
    "\n",
    "#Fit training data\n",
    "model_RF.fit(X_train,y_train)\n",
    "\n",
    "#Use train model to predict the output for X_test\n",
    "y_pred_RF=model_RF.predict(X_test)\n",
    "              \n",
    "# Check the Acuraccy for predictions     \n",
    "train_acc_RF = model_RF.score(X_train, y_train)\n",
    "test_acc_RF = model_RF.score(X_test, y_test)\n",
    "print(\"train acc:\",train_acc_RF,\"\\ntest acc:\", test_acc_RF)       \n",
    "\n",
    "# Check the AUC for predictions\n",
    "false_positive_rate_RF, true_positive_rate_RF, thresholds_RF = roc_curve(y_test, y_pred_RF)\n",
    "roc_auc_RF = auc(false_positive_rate_RF, true_positive_rate_RF)\n",
    "print('\\nAUC is :{0}'.format(round(roc_auc_RF, 2)))\n",
    "\n",
    "#Confusion matrix\n",
    "model_RF_matrix = confusion_matrix(y_test, y_pred_RF)\n",
    "disp = ConfusionMatrixDisplay(confusion_matrix=model_RF_matrix, display_labels=model_RF.classes_)\n",
    "disp.plot(cmap=plt.cm.Blues)"
   ]
  },
  {
   "cell_type": "markdown",
   "metadata": {},
   "source": [
    "### Modelo 5(KNeighborsClassifier)"
   ]
  }
 ],
 "metadata": {
  "kernelspec": {
   "display_name": "Python 3 (ipykernel)",
   "language": "python",
   "name": "python3"
  },
  "language_info": {
   "codemirror_mode": {
    "name": "ipython",
    "version": 3
   },
   "file_extension": ".py",
   "mimetype": "text/x-python",
   "name": "python",
   "nbconvert_exporter": "python",
   "pygments_lexer": "ipython3",
   "version": "3.11.4"
  }
 },
 "nbformat": 4,
 "nbformat_minor": 2
}
